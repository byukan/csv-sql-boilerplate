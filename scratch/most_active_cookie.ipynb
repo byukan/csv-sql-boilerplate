{
 "cells": [
  {
   "cell_type": "markdown",
   "id": "e44be89b",
   "metadata": {},
   "source": [
    "## development scratch notebook\n",
    ">- most_active_cookie.py"
   ]
  },
  {
   "cell_type": "code",
   "execution_count": 1,
   "id": "0a0191ee",
   "metadata": {},
   "outputs": [],
   "source": [
    "# sys.argv = './most_active_cookie cookie_log.csv -d 2018-12-08'.split(' ')\n",
    "# import imp\n",
    "# runpy = imp.load_source('__main__', '/Users/b/challenge/most active cookie/most_active_cookie.py')"
   ]
  },
  {
   "cell_type": "code",
   "execution_count": 2,
   "id": "d7044b92",
   "metadata": {},
   "outputs": [
    {
     "name": "stdout",
     "output_type": "stream",
     "text": [
      "{'SAZuXPGUrfbcn5UA', '4sMM2LxV07bPJzwf', 'fbcn5UAVanZf6UtG'}\n"
     ]
    }
   ],
   "source": [
    "from importlib.machinery import SourceFileLoader\n",
    "import sys\n",
    "sys.argv = './most_active_cookie cookie_log.csv -d 2018-12-08'.split(' ')\n",
    "mymodule = SourceFileLoader('__main__', '/Users/b/challenge/most active cookie/most_active_cookie.py').load_module()\n"
   ]
  },
  {
   "cell_type": "code",
   "execution_count": 3,
   "id": "2dcfa818",
   "metadata": {},
   "outputs": [
    {
     "data": {
      "text/plain": [
       "{'4sMM2LxV07bPJzwf', 'SAZuXPGUrfbcn5UA', 'fbcn5UAVanZf6UtG'}"
      ]
     },
     "execution_count": 3,
     "metadata": {},
     "output_type": "execute_result"
    }
   ],
   "source": [
    "{'SAZuXPGUrfbcn5UA', '4sMM2LxV07bPJzwf', 'fbcn5UAVanZf6UtG'}"
   ]
  },
  {
   "cell_type": "code",
   "execution_count": 7,
   "id": "551649a9",
   "metadata": {
    "scrolled": true
   },
   "outputs": [
    {
     "name": "stdout",
     "output_type": "stream",
     "text": [
      "{'SAZuXPGUrfbcn5UA', '4sMM2LxV07bPJzwf', 'fbcn5UAVanZf6UtG'}\n"
     ]
    }
   ],
   "source": [
    "mymodule.main()"
   ]
  },
  {
   "cell_type": "code",
   "execution_count": null,
   "id": "4fc1a9bf",
   "metadata": {},
   "outputs": [],
   "source": [
    "import os\n",
    "import csv, sqlite3\n",
    "db_file = 'cookie_log.db'\n",
    "day = \"'2018-12-08'\"\n",
    "query = f\"\"\"\n",
    "        with counts as\n",
    "        (select cookie, count(1) as count\n",
    "        from cookie_log\n",
    "        where date(timestamp) = {day}\n",
    "        group by cookie\n",
    "        )\n",
    "        select cookie from counts\n",
    "        where count = (select max(count) from counts)\n",
    "        \"\"\""
   ]
  },
  {
   "cell_type": "code",
   "execution_count": null,
   "id": "26207d3c",
   "metadata": {},
   "outputs": [],
   "source": [
    "con = sqlite3.connect(db_file)\n",
    "cur = con.cursor()\n",
    "for row in cur.execute(query):\n",
    "    print(row[0])\n",
    "# con.close()"
   ]
  },
  {
   "cell_type": "code",
   "execution_count": null,
   "id": "254a6dac",
   "metadata": {},
   "outputs": [],
   "source": [
    "import os\n",
    "import csv, sqlite3\n",
    "db_file = 'cookie_log.db'\n",
    "\n",
    "con = sqlite3.connect(db_file) # store db on disk, alternatively :memory: stores in RAM\n",
    "cur = con.cursor()\n",
    "\n",
    "\n",
    "\n",
    "# cur.execute('CREATE TABLE cookie_log (cookie, timestamp);')\n",
    "# cur.executemany(\"INSERT INTO cookie_log (cookie, timestamp) VALUES (?, ?);\", to_db)\n",
    "# con.commit()\n",
    "\n",
    "day = \"'2018-12-08'\"\n",
    "for row in cur.execute(f\"\"\"\n",
    "        with counts as\n",
    "        (select cookie, count(1) as count\n",
    "        from cookie_log\n",
    "        where date(timestamp) = {day}\n",
    "        group by cookie\n",
    "        )\n",
    "        select cookie from counts\n",
    "        where count = (select max(count) from counts)\n",
    "        \"\"\"):\n",
    "    print(row[0])\n",
    "\n",
    "con.close()"
   ]
  },
  {
   "cell_type": "code",
   "execution_count": null,
   "id": "c69763a2",
   "metadata": {},
   "outputs": [],
   "source": []
  },
  {
   "cell_type": "code",
   "execution_count": null,
   "id": "56c71885",
   "metadata": {},
   "outputs": [],
   "source": [
    "#!/usr/bin/env python3\n",
    "import sys\n",
    "import pandas as pd\n",
    "from pandasql import sqldf\n",
    "\n",
    "\n",
    "def main():\n",
    "    # parser = argparse.ArgumentParser(description='Process some integers.')\n",
    "    # parser.add_argument('--sum', dest='accumulate', action='store_const',\n",
    "    # const = sum, default = max,\n",
    "    # help = 'sum the integers (default: find the max)')\n",
    "    # print([*parser.parse_args()])\n",
    "\n",
    "    day = \"'2018-12-08'\"\n",
    "    cookie_log = pd.read_csv('cookie_log.csv')\n",
    "    most_active_df = sqldf(f\"\"\"\n",
    "    with counts as\n",
    "    (select cookie, count(1) as count\n",
    "    from cookie_log\n",
    "    where date(timestamp) = {day}\n",
    "    group by cookie\n",
    "    )\n",
    "    select cookie from counts\n",
    "    where count = (select max(count) from counts)\n",
    "    \"\"\", locals())\n",
    "    print(most_active_df)\n",
    "\n",
    "\n",
    "if __name__ == \"__main__\":\n",
    "    main()\n"
   ]
  },
  {
   "cell_type": "code",
   "execution_count": null,
   "id": "d1bfc4ed",
   "metadata": {},
   "outputs": [],
   "source": [
    "argv = './most_active_cookie cookie_log.csv -d 2018-12-08'.split(' ')\n",
    "argv[1], argv[3]"
   ]
  },
  {
   "cell_type": "code",
   "execution_count": null,
   "id": "18a85233",
   "metadata": {},
   "outputs": [],
   "source": [
    "'cookie_log.csv'.rsplit('.', 1)[0] + '.db'"
   ]
  },
  {
   "cell_type": "code",
   "execution_count": null,
   "id": "80812b91",
   "metadata": {},
   "outputs": [],
   "source": [
    "import os\n",
    "import csv, sqlite3\n",
    "\n",
    "db_file = 'cookie_log.db'\n",
    "os.remove('cookie_log.db')\n",
    "\n",
    "\n",
    "\n",
    "if not os.path.exists(db_file):\n",
    "    with open('cookie_log.csv') as fin:\n",
    "        # csv.DictReader uses first line in file for column headings by default\n",
    "        dr = csv.DictReader(fin)\n",
    "        to_db = [(x['cookie'], x['timestamp']) for x in dr]\n",
    "    open(db_file, 'w')\n",
    "\n",
    "    con = sqlite3.connect(db_file) # store db on disk, alternatively :memory: stores in RAM\n",
    "    cur = con.cursor()\n",
    "\n",
    "\n",
    "\n",
    "    cur.execute('CREATE TABLE cookie_log (cookie, timestamp);')\n",
    "    cur.executemany(\"INSERT INTO cookie_log (cookie, timestamp) VALUES (?, ?);\", to_db)\n",
    "    con.commit()\n",
    "    \n",
    "    day = \"'2018-12-08'\"\n",
    "    for row in cur.execute(f\"\"\"\n",
    "            with counts as\n",
    "            (select cookie, count(1) as count\n",
    "            from cookie_log\n",
    "            where date(timestamp) = {day}\n",
    "            group by cookie\n",
    "            )\n",
    "            select cookie from counts\n",
    "            where count = (select max(count) from counts)\n",
    "            \"\"\"):\n",
    "        print(row[0])\n",
    "    \n",
    "    con.close()"
   ]
  },
  {
   "cell_type": "code",
   "execution_count": null,
   "id": "b9bfc9cd",
   "metadata": {},
   "outputs": [],
   "source": [
    "for row in cur.execute(f\"\"\"\n",
    "            with counts as\n",
    "            (select cookie, count(1) as count\n",
    "            from cookie_log\n",
    "            where date(timestamp) = {day}\n",
    "            group by cookie\n",
    "            )\n",
    "            select cookie from counts\n",
    "            where count = (select max(count) from counts)\n",
    "            \"\"\"):\n",
    "    print(row)"
   ]
  },
  {
   "cell_type": "code",
   "execution_count": null,
   "id": "6da674e0",
   "metadata": {},
   "outputs": [],
   "source": []
  },
  {
   "cell_type": "code",
   "execution_count": null,
   "id": "26ba074a",
   "metadata": {},
   "outputs": [],
   "source": [
    "def connect_db(db_file):\n",
    "    \"\"\"\n",
    "    This function spins up a sqlite connection using a .db file on disk.\n",
    "    :param db_file: .db file\n",
    "    :return: cursor to database\n",
    "    \"\"\"\n",
    "    con = sqlite3.connect(db_file)\n",
    "    cur = con.cursor()\n",
    "    return cur"
   ]
  },
  {
   "cell_type": "code",
   "execution_count": null,
   "id": "22021036",
   "metadata": {},
   "outputs": [],
   "source": [
    "# https://stackoverflow.com/questions/2887878/importing-a-csv-file-into-a-sqlite3-database-table-using-python"
   ]
  },
  {
   "cell_type": "code",
   "execution_count": null,
   "id": "f3646ebc",
   "metadata": {},
   "outputs": [],
   "source": [
    "for row in cur.execute('''select * from cookie_log'''):\n",
    "    print(row)"
   ]
  },
  {
   "cell_type": "code",
   "execution_count": null,
   "id": "85d6df62",
   "metadata": {},
   "outputs": [],
   "source": [
    "import pandas as pd\n",
    "from pandasql import sqldf\n",
    "pysqldf = lambda q: sqldf(q, globals())\n",
    "\n",
    "\n",
    "day = \"'2018-12-08'\"\n",
    "cookie_log = pd.read_csv('cookie_log.csv')\n",
    "most_active_df = pysqldf(f\"\"\"\n",
    "with counts as\n",
    "(select cookie, count(1) as count\n",
    "from cookie_log\n",
    "where date(timestamp) = {day}\n",
    "group by cookie\n",
    ")\n",
    "select cookie from counts\n",
    "where count = (select max(count) from counts)\n",
    "\"\"\")"
   ]
  },
  {
   "cell_type": "code",
   "execution_count": null,
   "id": "77c7aaf6",
   "metadata": {},
   "outputs": [],
   "source": [
    "import argparse\n",
    "import pandas as pd\n",
    "from pandasql import sqldf\n",
    "pysqldf = lambda q: sqldf(q, globals())\n",
    "\n",
    "\n",
    "def main():\n",
    "    args = parse_arguments()\n",
    "    LOG_FILE_NAME = args.log_file_name\n",
    "    \n",
    "    \n",
    "    day = \"'2018-12-08'\"\n",
    "    cookie_log = pd.read_csv('cookie_log.csv')\n",
    "    most_active_df = pysqldf(f\"\"\"\n",
    "    with counts as\n",
    "    (select cookie, count(1) as count\n",
    "    from cookie_log\n",
    "    where date(timestamp) = {day}\n",
    "    group by cookie\n",
    "    )\n",
    "    select cookie from counts\n",
    "    where count = (select max(count) from counts)\n",
    "    \"\"\")\n",
    "    \n",
    "\n",
    "\n",
    "\n",
    "if __name__ == \"__main__\":\n",
    "    main()"
   ]
  },
  {
   "cell_type": "code",
   "execution_count": null,
   "id": "720749f3",
   "metadata": {},
   "outputs": [],
   "source": []
  }
 ],
 "metadata": {
  "kernelspec": {
   "display_name": "Python 3",
   "language": "python",
   "name": "python3"
  },
  "language_info": {
   "codemirror_mode": {
    "name": "ipython",
    "version": 3
   },
   "file_extension": ".py",
   "mimetype": "text/x-python",
   "name": "python",
   "nbconvert_exporter": "python",
   "pygments_lexer": "ipython3",
   "version": "3.8.8"
  }
 },
 "nbformat": 4,
 "nbformat_minor": 5
}
